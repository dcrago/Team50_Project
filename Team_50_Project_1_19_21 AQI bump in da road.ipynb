{
 "cells": [
  {
   "cell_type": "markdown",
   "metadata": {},
   "source": []
  },
  {
   "cell_type": "code",
   "execution_count": 30,
   "metadata": {},
   "outputs": [],
   "source": [
    "import json\n",
    "import requests\n",
    "import pandas as pd\n",
    "import matplotlib.pyplot as plt\n",
    "import seaborn as sns\n",
    "import numpy\n"
   ]
  },
  {
   "cell_type": "code",
   "execution_count": 31,
   "metadata": {},
   "outputs": [
    {
     "ename": "HTTPError",
     "evalue": "HTTP Error 404: Not Found",
     "output_type": "error",
     "traceback": [
      "\u001b[0;31m---------------------------------------------------------------------------\u001b[0m",
      "\u001b[0;31mHTTPError\u001b[0m                                 Traceback (most recent call last)",
      "\u001b[0;32m<ipython-input-31-234e3ddf4fe9>\u001b[0m in \u001b[0;36m<module>\u001b[0;34m\u001b[0m\n\u001b[0;32m----> 1\u001b[0;31m \u001b[0mtesting_sites_df\u001b[0m \u001b[0;34m=\u001b[0m  \u001b[0mpd\u001b[0m\u001b[0;34m.\u001b[0m\u001b[0mread_csv\u001b[0m\u001b[0;34m(\u001b[0m\u001b[0;34m'https://raw.githubusercontent.com/dcrago/Team50_Project/main/COVID-19%20Testing%20Locations%20Symbolized%20by%20Test%20Type.csv?token=ARUSVWL2E75VLQXSQ5HVWPTAA6EAG'\u001b[0m\u001b[0;34m)\u001b[0m\u001b[0;34m\u001b[0m\u001b[0;34m\u001b[0m\u001b[0m\n\u001b[0m",
      "\u001b[0;32m/opt/conda/lib/python3.6/site-packages/pandas/io/parsers.py\u001b[0m in \u001b[0;36mparser_f\u001b[0;34m(filepath_or_buffer, sep, delimiter, header, names, index_col, usecols, squeeze, prefix, mangle_dupe_cols, dtype, engine, converters, true_values, false_values, skipinitialspace, skiprows, nrows, na_values, keep_default_na, na_filter, verbose, skip_blank_lines, parse_dates, infer_datetime_format, keep_date_col, date_parser, dayfirst, iterator, chunksize, compression, thousands, decimal, lineterminator, quotechar, quoting, escapechar, comment, encoding, dialect, tupleize_cols, error_bad_lines, warn_bad_lines, skipfooter, doublequote, delim_whitespace, low_memory, memory_map, float_precision)\u001b[0m\n\u001b[1;32m    676\u001b[0m                     skip_blank_lines=skip_blank_lines)\n\u001b[1;32m    677\u001b[0m \u001b[0;34m\u001b[0m\u001b[0m\n\u001b[0;32m--> 678\u001b[0;31m         \u001b[0;32mreturn\u001b[0m \u001b[0m_read\u001b[0m\u001b[0;34m(\u001b[0m\u001b[0mfilepath_or_buffer\u001b[0m\u001b[0;34m,\u001b[0m \u001b[0mkwds\u001b[0m\u001b[0;34m)\u001b[0m\u001b[0;34m\u001b[0m\u001b[0;34m\u001b[0m\u001b[0m\n\u001b[0m\u001b[1;32m    679\u001b[0m \u001b[0;34m\u001b[0m\u001b[0m\n\u001b[1;32m    680\u001b[0m     \u001b[0mparser_f\u001b[0m\u001b[0;34m.\u001b[0m\u001b[0m__name__\u001b[0m \u001b[0;34m=\u001b[0m \u001b[0mname\u001b[0m\u001b[0;34m\u001b[0m\u001b[0;34m\u001b[0m\u001b[0m\n",
      "\u001b[0;32m/opt/conda/lib/python3.6/site-packages/pandas/io/parsers.py\u001b[0m in \u001b[0;36m_read\u001b[0;34m(filepath_or_buffer, kwds)\u001b[0m\n\u001b[1;32m    422\u001b[0m     \u001b[0mcompression\u001b[0m \u001b[0;34m=\u001b[0m \u001b[0m_infer_compression\u001b[0m\u001b[0;34m(\u001b[0m\u001b[0mfilepath_or_buffer\u001b[0m\u001b[0;34m,\u001b[0m \u001b[0mcompression\u001b[0m\u001b[0;34m)\u001b[0m\u001b[0;34m\u001b[0m\u001b[0;34m\u001b[0m\u001b[0m\n\u001b[1;32m    423\u001b[0m     filepath_or_buffer, _, compression, should_close = get_filepath_or_buffer(\n\u001b[0;32m--> 424\u001b[0;31m         filepath_or_buffer, encoding, compression)\n\u001b[0m\u001b[1;32m    425\u001b[0m     \u001b[0mkwds\u001b[0m\u001b[0;34m[\u001b[0m\u001b[0;34m'compression'\u001b[0m\u001b[0;34m]\u001b[0m \u001b[0;34m=\u001b[0m \u001b[0mcompression\u001b[0m\u001b[0;34m\u001b[0m\u001b[0;34m\u001b[0m\u001b[0m\n\u001b[1;32m    426\u001b[0m \u001b[0;34m\u001b[0m\u001b[0m\n",
      "\u001b[0;32m/opt/conda/lib/python3.6/site-packages/pandas/io/common.py\u001b[0m in \u001b[0;36mget_filepath_or_buffer\u001b[0;34m(filepath_or_buffer, encoding, compression, mode)\u001b[0m\n\u001b[1;32m    193\u001b[0m \u001b[0;34m\u001b[0m\u001b[0m\n\u001b[1;32m    194\u001b[0m     \u001b[0;32mif\u001b[0m \u001b[0m_is_url\u001b[0m\u001b[0;34m(\u001b[0m\u001b[0mfilepath_or_buffer\u001b[0m\u001b[0;34m)\u001b[0m\u001b[0;34m:\u001b[0m\u001b[0;34m\u001b[0m\u001b[0;34m\u001b[0m\u001b[0m\n\u001b[0;32m--> 195\u001b[0;31m         \u001b[0mreq\u001b[0m \u001b[0;34m=\u001b[0m \u001b[0m_urlopen\u001b[0m\u001b[0;34m(\u001b[0m\u001b[0mfilepath_or_buffer\u001b[0m\u001b[0;34m)\u001b[0m\u001b[0;34m\u001b[0m\u001b[0;34m\u001b[0m\u001b[0m\n\u001b[0m\u001b[1;32m    196\u001b[0m         \u001b[0mcontent_encoding\u001b[0m \u001b[0;34m=\u001b[0m \u001b[0mreq\u001b[0m\u001b[0;34m.\u001b[0m\u001b[0mheaders\u001b[0m\u001b[0;34m.\u001b[0m\u001b[0mget\u001b[0m\u001b[0;34m(\u001b[0m\u001b[0;34m'Content-Encoding'\u001b[0m\u001b[0;34m,\u001b[0m \u001b[0;32mNone\u001b[0m\u001b[0;34m)\u001b[0m\u001b[0;34m\u001b[0m\u001b[0;34m\u001b[0m\u001b[0m\n\u001b[1;32m    197\u001b[0m         \u001b[0;32mif\u001b[0m \u001b[0mcontent_encoding\u001b[0m \u001b[0;34m==\u001b[0m \u001b[0;34m'gzip'\u001b[0m\u001b[0;34m:\u001b[0m\u001b[0;34m\u001b[0m\u001b[0;34m\u001b[0m\u001b[0m\n",
      "\u001b[0;32m/opt/conda/lib/python3.6/urllib/request.py\u001b[0m in \u001b[0;36murlopen\u001b[0;34m(url, data, timeout, cafile, capath, cadefault, context)\u001b[0m\n\u001b[1;32m    221\u001b[0m     \u001b[0;32melse\u001b[0m\u001b[0;34m:\u001b[0m\u001b[0;34m\u001b[0m\u001b[0;34m\u001b[0m\u001b[0m\n\u001b[1;32m    222\u001b[0m         \u001b[0mopener\u001b[0m \u001b[0;34m=\u001b[0m \u001b[0m_opener\u001b[0m\u001b[0;34m\u001b[0m\u001b[0;34m\u001b[0m\u001b[0m\n\u001b[0;32m--> 223\u001b[0;31m     \u001b[0;32mreturn\u001b[0m \u001b[0mopener\u001b[0m\u001b[0;34m.\u001b[0m\u001b[0mopen\u001b[0m\u001b[0;34m(\u001b[0m\u001b[0murl\u001b[0m\u001b[0;34m,\u001b[0m \u001b[0mdata\u001b[0m\u001b[0;34m,\u001b[0m \u001b[0mtimeout\u001b[0m\u001b[0;34m)\u001b[0m\u001b[0;34m\u001b[0m\u001b[0;34m\u001b[0m\u001b[0m\n\u001b[0m\u001b[1;32m    224\u001b[0m \u001b[0;34m\u001b[0m\u001b[0m\n\u001b[1;32m    225\u001b[0m \u001b[0;32mdef\u001b[0m \u001b[0minstall_opener\u001b[0m\u001b[0;34m(\u001b[0m\u001b[0mopener\u001b[0m\u001b[0;34m)\u001b[0m\u001b[0;34m:\u001b[0m\u001b[0;34m\u001b[0m\u001b[0;34m\u001b[0m\u001b[0m\n",
      "\u001b[0;32m/opt/conda/lib/python3.6/urllib/request.py\u001b[0m in \u001b[0;36mopen\u001b[0;34m(self, fullurl, data, timeout)\u001b[0m\n\u001b[1;32m    530\u001b[0m         \u001b[0;32mfor\u001b[0m \u001b[0mprocessor\u001b[0m \u001b[0;32min\u001b[0m \u001b[0mself\u001b[0m\u001b[0;34m.\u001b[0m\u001b[0mprocess_response\u001b[0m\u001b[0;34m.\u001b[0m\u001b[0mget\u001b[0m\u001b[0;34m(\u001b[0m\u001b[0mprotocol\u001b[0m\u001b[0;34m,\u001b[0m \u001b[0;34m[\u001b[0m\u001b[0;34m]\u001b[0m\u001b[0;34m)\u001b[0m\u001b[0;34m:\u001b[0m\u001b[0;34m\u001b[0m\u001b[0;34m\u001b[0m\u001b[0m\n\u001b[1;32m    531\u001b[0m             \u001b[0mmeth\u001b[0m \u001b[0;34m=\u001b[0m \u001b[0mgetattr\u001b[0m\u001b[0;34m(\u001b[0m\u001b[0mprocessor\u001b[0m\u001b[0;34m,\u001b[0m \u001b[0mmeth_name\u001b[0m\u001b[0;34m)\u001b[0m\u001b[0;34m\u001b[0m\u001b[0;34m\u001b[0m\u001b[0m\n\u001b[0;32m--> 532\u001b[0;31m             \u001b[0mresponse\u001b[0m \u001b[0;34m=\u001b[0m \u001b[0mmeth\u001b[0m\u001b[0;34m(\u001b[0m\u001b[0mreq\u001b[0m\u001b[0;34m,\u001b[0m \u001b[0mresponse\u001b[0m\u001b[0;34m)\u001b[0m\u001b[0;34m\u001b[0m\u001b[0;34m\u001b[0m\u001b[0m\n\u001b[0m\u001b[1;32m    533\u001b[0m \u001b[0;34m\u001b[0m\u001b[0m\n\u001b[1;32m    534\u001b[0m         \u001b[0;32mreturn\u001b[0m \u001b[0mresponse\u001b[0m\u001b[0;34m\u001b[0m\u001b[0;34m\u001b[0m\u001b[0m\n",
      "\u001b[0;32m/opt/conda/lib/python3.6/urllib/request.py\u001b[0m in \u001b[0;36mhttp_response\u001b[0;34m(self, request, response)\u001b[0m\n\u001b[1;32m    640\u001b[0m         \u001b[0;32mif\u001b[0m \u001b[0;32mnot\u001b[0m \u001b[0;34m(\u001b[0m\u001b[0;36m200\u001b[0m \u001b[0;34m<=\u001b[0m \u001b[0mcode\u001b[0m \u001b[0;34m<\u001b[0m \u001b[0;36m300\u001b[0m\u001b[0;34m)\u001b[0m\u001b[0;34m:\u001b[0m\u001b[0;34m\u001b[0m\u001b[0;34m\u001b[0m\u001b[0m\n\u001b[1;32m    641\u001b[0m             response = self.parent.error(\n\u001b[0;32m--> 642\u001b[0;31m                 'http', request, response, code, msg, hdrs)\n\u001b[0m\u001b[1;32m    643\u001b[0m \u001b[0;34m\u001b[0m\u001b[0m\n\u001b[1;32m    644\u001b[0m         \u001b[0;32mreturn\u001b[0m \u001b[0mresponse\u001b[0m\u001b[0;34m\u001b[0m\u001b[0;34m\u001b[0m\u001b[0m\n",
      "\u001b[0;32m/opt/conda/lib/python3.6/urllib/request.py\u001b[0m in \u001b[0;36merror\u001b[0;34m(self, proto, *args)\u001b[0m\n\u001b[1;32m    568\u001b[0m         \u001b[0;32mif\u001b[0m \u001b[0mhttp_err\u001b[0m\u001b[0;34m:\u001b[0m\u001b[0;34m\u001b[0m\u001b[0;34m\u001b[0m\u001b[0m\n\u001b[1;32m    569\u001b[0m             \u001b[0margs\u001b[0m \u001b[0;34m=\u001b[0m \u001b[0;34m(\u001b[0m\u001b[0mdict\u001b[0m\u001b[0;34m,\u001b[0m \u001b[0;34m'default'\u001b[0m\u001b[0;34m,\u001b[0m \u001b[0;34m'http_error_default'\u001b[0m\u001b[0;34m)\u001b[0m \u001b[0;34m+\u001b[0m \u001b[0morig_args\u001b[0m\u001b[0;34m\u001b[0m\u001b[0;34m\u001b[0m\u001b[0m\n\u001b[0;32m--> 570\u001b[0;31m             \u001b[0;32mreturn\u001b[0m \u001b[0mself\u001b[0m\u001b[0;34m.\u001b[0m\u001b[0m_call_chain\u001b[0m\u001b[0;34m(\u001b[0m\u001b[0;34m*\u001b[0m\u001b[0margs\u001b[0m\u001b[0;34m)\u001b[0m\u001b[0;34m\u001b[0m\u001b[0;34m\u001b[0m\u001b[0m\n\u001b[0m\u001b[1;32m    571\u001b[0m \u001b[0;34m\u001b[0m\u001b[0m\n\u001b[1;32m    572\u001b[0m \u001b[0;31m# XXX probably also want an abstract factory that knows when it makes\u001b[0m\u001b[0;34m\u001b[0m\u001b[0;34m\u001b[0m\u001b[0;34m\u001b[0m\u001b[0m\n",
      "\u001b[0;32m/opt/conda/lib/python3.6/urllib/request.py\u001b[0m in \u001b[0;36m_call_chain\u001b[0;34m(self, chain, kind, meth_name, *args)\u001b[0m\n\u001b[1;32m    502\u001b[0m         \u001b[0;32mfor\u001b[0m \u001b[0mhandler\u001b[0m \u001b[0;32min\u001b[0m \u001b[0mhandlers\u001b[0m\u001b[0;34m:\u001b[0m\u001b[0;34m\u001b[0m\u001b[0;34m\u001b[0m\u001b[0m\n\u001b[1;32m    503\u001b[0m             \u001b[0mfunc\u001b[0m \u001b[0;34m=\u001b[0m \u001b[0mgetattr\u001b[0m\u001b[0;34m(\u001b[0m\u001b[0mhandler\u001b[0m\u001b[0;34m,\u001b[0m \u001b[0mmeth_name\u001b[0m\u001b[0;34m)\u001b[0m\u001b[0;34m\u001b[0m\u001b[0;34m\u001b[0m\u001b[0m\n\u001b[0;32m--> 504\u001b[0;31m             \u001b[0mresult\u001b[0m \u001b[0;34m=\u001b[0m \u001b[0mfunc\u001b[0m\u001b[0;34m(\u001b[0m\u001b[0;34m*\u001b[0m\u001b[0margs\u001b[0m\u001b[0;34m)\u001b[0m\u001b[0;34m\u001b[0m\u001b[0;34m\u001b[0m\u001b[0m\n\u001b[0m\u001b[1;32m    505\u001b[0m             \u001b[0;32mif\u001b[0m \u001b[0mresult\u001b[0m \u001b[0;32mis\u001b[0m \u001b[0;32mnot\u001b[0m \u001b[0;32mNone\u001b[0m\u001b[0;34m:\u001b[0m\u001b[0;34m\u001b[0m\u001b[0;34m\u001b[0m\u001b[0m\n\u001b[1;32m    506\u001b[0m                 \u001b[0;32mreturn\u001b[0m \u001b[0mresult\u001b[0m\u001b[0;34m\u001b[0m\u001b[0;34m\u001b[0m\u001b[0m\n",
      "\u001b[0;32m/opt/conda/lib/python3.6/urllib/request.py\u001b[0m in \u001b[0;36mhttp_error_default\u001b[0;34m(self, req, fp, code, msg, hdrs)\u001b[0m\n\u001b[1;32m    648\u001b[0m \u001b[0;32mclass\u001b[0m \u001b[0mHTTPDefaultErrorHandler\u001b[0m\u001b[0;34m(\u001b[0m\u001b[0mBaseHandler\u001b[0m\u001b[0;34m)\u001b[0m\u001b[0;34m:\u001b[0m\u001b[0;34m\u001b[0m\u001b[0;34m\u001b[0m\u001b[0m\n\u001b[1;32m    649\u001b[0m     \u001b[0;32mdef\u001b[0m \u001b[0mhttp_error_default\u001b[0m\u001b[0;34m(\u001b[0m\u001b[0mself\u001b[0m\u001b[0;34m,\u001b[0m \u001b[0mreq\u001b[0m\u001b[0;34m,\u001b[0m \u001b[0mfp\u001b[0m\u001b[0;34m,\u001b[0m \u001b[0mcode\u001b[0m\u001b[0;34m,\u001b[0m \u001b[0mmsg\u001b[0m\u001b[0;34m,\u001b[0m \u001b[0mhdrs\u001b[0m\u001b[0;34m)\u001b[0m\u001b[0;34m:\u001b[0m\u001b[0;34m\u001b[0m\u001b[0;34m\u001b[0m\u001b[0m\n\u001b[0;32m--> 650\u001b[0;31m         \u001b[0;32mraise\u001b[0m \u001b[0mHTTPError\u001b[0m\u001b[0;34m(\u001b[0m\u001b[0mreq\u001b[0m\u001b[0;34m.\u001b[0m\u001b[0mfull_url\u001b[0m\u001b[0;34m,\u001b[0m \u001b[0mcode\u001b[0m\u001b[0;34m,\u001b[0m \u001b[0mmsg\u001b[0m\u001b[0;34m,\u001b[0m \u001b[0mhdrs\u001b[0m\u001b[0;34m,\u001b[0m \u001b[0mfp\u001b[0m\u001b[0;34m)\u001b[0m\u001b[0;34m\u001b[0m\u001b[0;34m\u001b[0m\u001b[0m\n\u001b[0m\u001b[1;32m    651\u001b[0m \u001b[0;34m\u001b[0m\u001b[0m\n\u001b[1;32m    652\u001b[0m \u001b[0;32mclass\u001b[0m \u001b[0mHTTPRedirectHandler\u001b[0m\u001b[0;34m(\u001b[0m\u001b[0mBaseHandler\u001b[0m\u001b[0;34m)\u001b[0m\u001b[0;34m:\u001b[0m\u001b[0;34m\u001b[0m\u001b[0;34m\u001b[0m\u001b[0m\n",
      "\u001b[0;31mHTTPError\u001b[0m: HTTP Error 404: Not Found"
     ]
    }
   ],
   "source": [
    "testing_sites_df =  pd.read_csv('https://raw.githubusercontent.com/dcrago/Team50_Project/main/COVID-19%20Testing%20Locations%20Symbolized%20by%20Test%20Type.csv?token=ARUSVWL2E75VLQXSQ5HVWPTAA6EAG')"
   ]
  },
  {
   "cell_type": "code",
   "execution_count": null,
   "metadata": {},
   "outputs": [],
   "source": [
    "testing_sites_df.drop(columns = ['Owner Name','Phone','Website','Operational Hours','Vehicle Capacity','CreationDate','Drive-through','Appointment Only','Referral Required','Call first','Virtual/Telehealth Screening','Local Health Department URL','Vehicle Required','Offering same-day diagnostic (not antibody) results','Offering Take-Home Test','Status Color'], inplace = True)\n",
    "testing_sites_df.drop(columns = ['Public Form Submission','Minimum Age','Wheelchair accessibility ','Accessibility Support'], inplace = True)"
   ]
  },
  {
   "cell_type": "code",
   "execution_count": null,
   "metadata": {},
   "outputs": [],
   "source": [
    "\n",
    "testing_sites_df['county']= testing_sites_df['County']\n",
    "testing_sites_df\n",
    "testing_sites_df.sort_values(by ='County')\n"
   ]
  },
  {
   "cell_type": "code",
   "execution_count": null,
   "metadata": {},
   "outputs": [],
   "source": [
    "testing_sites_df['county_states']= testing_sites_df['county'] + ' , ' + testing_sites_df['State or Territory']\n",
    "testing_sites_df"
   ]
  },
  {
   "cell_type": "code",
   "execution_count": null,
   "metadata": {},
   "outputs": [],
   "source": [
    "_ = testing_sites_df['county_states'].unique\n",
    "_"
   ]
  },
  {
   "cell_type": "code",
   "execution_count": 32,
   "metadata": {},
   "outputs": [],
   "source": [
    "Covid_data = pd.read_csv(\"https://raw.githubusercontent.com/nytimes/covid-19-data/master/us-counties.csv\")"
   ]
  },
  {
   "cell_type": "code",
   "execution_count": 33,
   "metadata": {},
   "outputs": [],
   "source": [
    "asthma = pd.read_csv('500_Cities__Current_asthma_among_adults_aged___18_years.csv')"
   ]
  },
  {
   "cell_type": "code",
   "execution_count": 34,
   "metadata": {},
   "outputs": [
    {
     "data": {
      "text/html": [
       "<div>\n",
       "<style scoped>\n",
       "    .dataframe tbody tr th:only-of-type {\n",
       "        vertical-align: middle;\n",
       "    }\n",
       "\n",
       "    .dataframe tbody tr th {\n",
       "        vertical-align: top;\n",
       "    }\n",
       "\n",
       "    .dataframe thead th {\n",
       "        text-align: right;\n",
       "    }\n",
       "</style>\n",
       "<table border=\"1\" class=\"dataframe\">\n",
       "  <thead>\n",
       "    <tr style=\"text-align: right;\">\n",
       "      <th></th>\n",
       "      <th>date</th>\n",
       "      <th>county</th>\n",
       "      <th>state</th>\n",
       "      <th>fips</th>\n",
       "      <th>cases</th>\n",
       "      <th>deaths</th>\n",
       "      <th>mortality</th>\n",
       "    </tr>\n",
       "  </thead>\n",
       "  <tbody>\n",
       "    <tr>\n",
       "      <th>943228</th>\n",
       "      <td>2021-01-18</td>\n",
       "      <td>Sweetwater</td>\n",
       "      <td>Wyoming</td>\n",
       "      <td>56037.0</td>\n",
       "      <td>3312</td>\n",
       "      <td>26.0</td>\n",
       "      <td>0.007850</td>\n",
       "    </tr>\n",
       "    <tr>\n",
       "      <th>943229</th>\n",
       "      <td>2021-01-18</td>\n",
       "      <td>Teton</td>\n",
       "      <td>Wyoming</td>\n",
       "      <td>56039.0</td>\n",
       "      <td>2753</td>\n",
       "      <td>4.0</td>\n",
       "      <td>0.001453</td>\n",
       "    </tr>\n",
       "    <tr>\n",
       "      <th>943230</th>\n",
       "      <td>2021-01-18</td>\n",
       "      <td>Uinta</td>\n",
       "      <td>Wyoming</td>\n",
       "      <td>56041.0</td>\n",
       "      <td>1833</td>\n",
       "      <td>9.0</td>\n",
       "      <td>0.004910</td>\n",
       "    </tr>\n",
       "    <tr>\n",
       "      <th>943231</th>\n",
       "      <td>2021-01-18</td>\n",
       "      <td>Washakie</td>\n",
       "      <td>Wyoming</td>\n",
       "      <td>56043.0</td>\n",
       "      <td>843</td>\n",
       "      <td>23.0</td>\n",
       "      <td>0.027284</td>\n",
       "    </tr>\n",
       "    <tr>\n",
       "      <th>943232</th>\n",
       "      <td>2021-01-18</td>\n",
       "      <td>Weston</td>\n",
       "      <td>Wyoming</td>\n",
       "      <td>56045.0</td>\n",
       "      <td>602</td>\n",
       "      <td>4.0</td>\n",
       "      <td>0.006645</td>\n",
       "    </tr>\n",
       "  </tbody>\n",
       "</table>\n",
       "</div>"
      ],
      "text/plain": [
       "              date      county    state     fips  cases  deaths  mortality\n",
       "943228  2021-01-18  Sweetwater  Wyoming  56037.0   3312    26.0   0.007850\n",
       "943229  2021-01-18       Teton  Wyoming  56039.0   2753     4.0   0.001453\n",
       "943230  2021-01-18       Uinta  Wyoming  56041.0   1833     9.0   0.004910\n",
       "943231  2021-01-18    Washakie  Wyoming  56043.0    843    23.0   0.027284\n",
       "943232  2021-01-18      Weston  Wyoming  56045.0    602     4.0   0.006645"
      ]
     },
     "execution_count": 34,
     "metadata": {},
     "output_type": "execute_result"
    }
   ],
   "source": [
    "Covid_data['mortality'] = Covid_data['deaths']/Covid_data['cases']\n",
    "Covid_data.tail()"
   ]
  },
  {
   "cell_type": "code",
   "execution_count": null,
   "metadata": {},
   "outputs": [],
   "source": [
    "testing_sites_covid = Covid_data.merge(testing_sites_df,\n",
    "    how='inner',\n",
    "    on = 'county'\n",
    ")\n",
    "\n",
    "testing_sites_covid"
   ]
  },
  {
   "cell_type": "code",
   "execution_count": null,
   "metadata": {},
   "outputs": [],
   "source": [
    "mort_county.corr()[['asthma_value_times_count', 'confirmed_deaths']]"
   ]
  },
  {
   "cell_type": "code",
   "execution_count": 35,
   "metadata": {},
   "outputs": [
    {
     "data": {
      "text/plain": [
       "0         528.612\n",
       "1        5524.416\n",
       "2         478.986\n",
       "3         359.048\n",
       "4         244.664\n",
       "5         602.217\n",
       "6         533.088\n",
       "7         129.114\n",
       "8         208.284\n",
       "9         129.642\n",
       "10        199.088\n",
       "11        430.248\n",
       "12       6983.556\n",
       "13        301.770\n",
       "14        858.104\n",
       "15        477.752\n",
       "16        122.636\n",
       "17        486.128\n",
       "18        298.067\n",
       "19        448.128\n",
       "20        565.785\n",
       "21        521.489\n",
       "22        267.696\n",
       "23        565.779\n",
       "24        545.008\n",
       "25        315.375\n",
       "26        538.160\n",
       "27        152.724\n",
       "28        195.306\n",
       "29        378.990\n",
       "           ...   \n",
       "28976     462.580\n",
       "28977    6506.056\n",
       "28978     655.820\n",
       "28979     792.820\n",
       "28980     687.810\n",
       "28981     170.655\n",
       "28982     399.000\n",
       "28983     375.800\n",
       "28984     363.900\n",
       "28985     142.784\n",
       "28986     311.328\n",
       "28987         NaN\n",
       "28988      94.554\n",
       "28989     447.282\n",
       "28990      98.560\n",
       "28991      87.045\n",
       "28992     223.479\n",
       "28993    6576.774\n",
       "28994     433.100\n",
       "28995     575.920\n",
       "28996     674.432\n",
       "28997     378.945\n",
       "28998     491.470\n",
       "28999     313.720\n",
       "29000     346.695\n",
       "29001     403.506\n",
       "29002      45.235\n",
       "29003     135.013\n",
       "29004     137.800\n",
       "29005     363.792\n",
       "Name: asthma_value_times_count, Length: 29006, dtype: float64"
      ]
     },
     "execution_count": 35,
     "metadata": {},
     "output_type": "execute_result"
    }
   ],
   "source": [
    "asthma['state'] = asthma['StateDesc']\n",
    "asthma['asthma_value_times_count'] = (asthma['Data_Value'] * asthma['PopulationCount'])/100\n",
    "asthma['asthma_value_times_count']"
   ]
  },
  {
   "cell_type": "code",
   "execution_count": 36,
   "metadata": {},
   "outputs": [
    {
     "data": {
      "text/html": [
       "<div>\n",
       "<style scoped>\n",
       "    .dataframe tbody tr th:only-of-type {\n",
       "        vertical-align: middle;\n",
       "    }\n",
       "\n",
       "    .dataframe tbody tr th {\n",
       "        vertical-align: top;\n",
       "    }\n",
       "\n",
       "    .dataframe thead th {\n",
       "        text-align: right;\n",
       "    }\n",
       "</style>\n",
       "<table border=\"1\" class=\"dataframe\">\n",
       "  <thead>\n",
       "    <tr style=\"text-align: right;\">\n",
       "      <th></th>\n",
       "      <th>Year</th>\n",
       "      <th>StateAbbr</th>\n",
       "      <th>StateDesc</th>\n",
       "      <th>CityName</th>\n",
       "      <th>GeographicLevel</th>\n",
       "      <th>DataSource</th>\n",
       "      <th>Category</th>\n",
       "      <th>UniqueID</th>\n",
       "      <th>Measure</th>\n",
       "      <th>Data_Value_Unit</th>\n",
       "      <th>...</th>\n",
       "      <th>Data_Value_Footnote</th>\n",
       "      <th>PopulationCount</th>\n",
       "      <th>GeoLocation</th>\n",
       "      <th>CategoryID</th>\n",
       "      <th>MeasureId</th>\n",
       "      <th>CityFIPS</th>\n",
       "      <th>TractFIPS</th>\n",
       "      <th>Short_Question_Text</th>\n",
       "      <th>state</th>\n",
       "      <th>asthma_value_times_count</th>\n",
       "    </tr>\n",
       "  </thead>\n",
       "  <tbody>\n",
       "    <tr>\n",
       "      <th>0</th>\n",
       "      <td>2017</td>\n",
       "      <td>GA</td>\n",
       "      <td>Georgia</td>\n",
       "      <td>Columbus</td>\n",
       "      <td>Census Tract</td>\n",
       "      <td>BRFSS</td>\n",
       "      <td>Health Outcomes</td>\n",
       "      <td>1319000-13215010302</td>\n",
       "      <td>Current asthma among adults aged &gt;=18 Years</td>\n",
       "      <td>%</td>\n",
       "      <td>...</td>\n",
       "      <td>NaN</td>\n",
       "      <td>6293</td>\n",
       "      <td>(32.5420961469, -84.975715442)</td>\n",
       "      <td>HLTHOUT</td>\n",
       "      <td>CASTHMA</td>\n",
       "      <td>1319000.0</td>\n",
       "      <td>1.321501e+10</td>\n",
       "      <td>Current Asthma</td>\n",
       "      <td>Georgia</td>\n",
       "      <td>528.612</td>\n",
       "    </tr>\n",
       "    <tr>\n",
       "      <th>1</th>\n",
       "      <td>2017</td>\n",
       "      <td>GA</td>\n",
       "      <td>Georgia</td>\n",
       "      <td>Johns Creek</td>\n",
       "      <td>City</td>\n",
       "      <td>BRFSS</td>\n",
       "      <td>Health Outcomes</td>\n",
       "      <td>1342425</td>\n",
       "      <td>Current asthma among adults aged &gt;=18 Years</td>\n",
       "      <td>%</td>\n",
       "      <td>...</td>\n",
       "      <td>NaN</td>\n",
       "      <td>76728</td>\n",
       "      <td>(34.0332991998, -84.2027195506)</td>\n",
       "      <td>HLTHOUT</td>\n",
       "      <td>CASTHMA</td>\n",
       "      <td>1342425.0</td>\n",
       "      <td>NaN</td>\n",
       "      <td>Current Asthma</td>\n",
       "      <td>Georgia</td>\n",
       "      <td>5524.416</td>\n",
       "    </tr>\n",
       "    <tr>\n",
       "      <th>2</th>\n",
       "      <td>2017</td>\n",
       "      <td>GA</td>\n",
       "      <td>Georgia</td>\n",
       "      <td>Sandy Springs</td>\n",
       "      <td>Census Tract</td>\n",
       "      <td>BRFSS</td>\n",
       "      <td>Health Outcomes</td>\n",
       "      <td>1368516-13121010119</td>\n",
       "      <td>Current asthma among adults aged &gt;=18 Years</td>\n",
       "      <td>%</td>\n",
       "      <td>...</td>\n",
       "      <td>NaN</td>\n",
       "      <td>4938</td>\n",
       "      <td>(33.9913040108, -84.3452326148)</td>\n",
       "      <td>HLTHOUT</td>\n",
       "      <td>CASTHMA</td>\n",
       "      <td>1368516.0</td>\n",
       "      <td>1.312101e+10</td>\n",
       "      <td>Current Asthma</td>\n",
       "      <td>Georgia</td>\n",
       "      <td>478.986</td>\n",
       "    </tr>\n",
       "    <tr>\n",
       "      <th>3</th>\n",
       "      <td>2017</td>\n",
       "      <td>GA</td>\n",
       "      <td>Georgia</td>\n",
       "      <td>Roswell</td>\n",
       "      <td>Census Tract</td>\n",
       "      <td>BRFSS</td>\n",
       "      <td>Health Outcomes</td>\n",
       "      <td>1367284-13121011423</td>\n",
       "      <td>Current asthma among adults aged &gt;=18 Years</td>\n",
       "      <td>%</td>\n",
       "      <td>...</td>\n",
       "      <td>NaN</td>\n",
       "      <td>4852</td>\n",
       "      <td>(34.0177367078, -84.3840157981)</td>\n",
       "      <td>HLTHOUT</td>\n",
       "      <td>CASTHMA</td>\n",
       "      <td>1367284.0</td>\n",
       "      <td>1.312101e+10</td>\n",
       "      <td>Current Asthma</td>\n",
       "      <td>Georgia</td>\n",
       "      <td>359.048</td>\n",
       "    </tr>\n",
       "    <tr>\n",
       "      <th>4</th>\n",
       "      <td>2017</td>\n",
       "      <td>GA</td>\n",
       "      <td>Georgia</td>\n",
       "      <td>Savannah</td>\n",
       "      <td>Census Tract</td>\n",
       "      <td>BRFSS</td>\n",
       "      <td>Health Outcomes</td>\n",
       "      <td>1369000-13051002300</td>\n",
       "      <td>Current asthma among adults aged &gt;=18 Years</td>\n",
       "      <td>%</td>\n",
       "      <td>...</td>\n",
       "      <td>NaN</td>\n",
       "      <td>2056</td>\n",
       "      <td>(32.0577200508, -81.1112836355)</td>\n",
       "      <td>HLTHOUT</td>\n",
       "      <td>CASTHMA</td>\n",
       "      <td>1369000.0</td>\n",
       "      <td>1.305100e+10</td>\n",
       "      <td>Current Asthma</td>\n",
       "      <td>Georgia</td>\n",
       "      <td>244.664</td>\n",
       "    </tr>\n",
       "  </tbody>\n",
       "</table>\n",
       "<p>5 rows × 26 columns</p>\n",
       "</div>"
      ],
      "text/plain": [
       "   Year StateAbbr StateDesc       CityName GeographicLevel DataSource  \\\n",
       "0  2017        GA   Georgia       Columbus    Census Tract      BRFSS   \n",
       "1  2017        GA   Georgia    Johns Creek            City      BRFSS   \n",
       "2  2017        GA   Georgia  Sandy Springs    Census Tract      BRFSS   \n",
       "3  2017        GA   Georgia        Roswell    Census Tract      BRFSS   \n",
       "4  2017        GA   Georgia       Savannah    Census Tract      BRFSS   \n",
       "\n",
       "          Category             UniqueID  \\\n",
       "0  Health Outcomes  1319000-13215010302   \n",
       "1  Health Outcomes              1342425   \n",
       "2  Health Outcomes  1368516-13121010119   \n",
       "3  Health Outcomes  1367284-13121011423   \n",
       "4  Health Outcomes  1369000-13051002300   \n",
       "\n",
       "                                       Measure Data_Value_Unit  \\\n",
       "0  Current asthma among adults aged >=18 Years               %   \n",
       "1  Current asthma among adults aged >=18 Years               %   \n",
       "2  Current asthma among adults aged >=18 Years               %   \n",
       "3  Current asthma among adults aged >=18 Years               %   \n",
       "4  Current asthma among adults aged >=18 Years               %   \n",
       "\n",
       "            ...            Data_Value_Footnote PopulationCount  \\\n",
       "0           ...                            NaN            6293   \n",
       "1           ...                            NaN           76728   \n",
       "2           ...                            NaN            4938   \n",
       "3           ...                            NaN            4852   \n",
       "4           ...                            NaN            2056   \n",
       "\n",
       "                       GeoLocation  CategoryID  MeasureId   CityFIPS  \\\n",
       "0   (32.5420961469, -84.975715442)     HLTHOUT    CASTHMA  1319000.0   \n",
       "1  (34.0332991998, -84.2027195506)     HLTHOUT    CASTHMA  1342425.0   \n",
       "2  (33.9913040108, -84.3452326148)     HLTHOUT    CASTHMA  1368516.0   \n",
       "3  (34.0177367078, -84.3840157981)     HLTHOUT    CASTHMA  1367284.0   \n",
       "4  (32.0577200508, -81.1112836355)     HLTHOUT    CASTHMA  1369000.0   \n",
       "\n",
       "      TractFIPS  Short_Question_Text    state asthma_value_times_count  \n",
       "0  1.321501e+10       Current Asthma  Georgia                  528.612  \n",
       "1           NaN       Current Asthma  Georgia                 5524.416  \n",
       "2  1.312101e+10       Current Asthma  Georgia                  478.986  \n",
       "3  1.312101e+10       Current Asthma  Georgia                  359.048  \n",
       "4  1.305100e+10       Current Asthma  Georgia                  244.664  \n",
       "\n",
       "[5 rows x 26 columns]"
      ]
     },
     "execution_count": 36,
     "metadata": {},
     "output_type": "execute_result"
    }
   ],
   "source": [
    "asthma.head()"
   ]
  },
  {
   "cell_type": "code",
   "execution_count": 37,
   "metadata": {},
   "outputs": [],
   "source": [
    "asthma1 = asthma.groupby(['state']).sum()\n",
    "asthma_state_count = asthma1['asthma_value_times_count']"
   ]
  },
  {
   "cell_type": "code",
   "execution_count": 38,
   "metadata": {},
   "outputs": [],
   "source": [
    "from IPython.display import HTML"
   ]
  },
  {
   "cell_type": "code",
   "execution_count": 39,
   "metadata": {},
   "outputs": [
    {
     "data": {
      "text/plain": [
       "Index(['H_IDNUM', 'GEREG', 'GESTFIPS', 'GEDIV', 'HRHTYPE', 'HEFAMINC',\n",
       "       'H_MONTH', 'H_YEAR', 'H_TENURE', 'H_HHNUM',\n",
       "       ...\n",
       "       'THCHCARE_VAL', 'THPROP_VAL', 'GTCBSA', 'GTCO', 'GTCBSAST', 'GTCBSASZ',\n",
       "       'GTCSA', 'GTMETSTA', 'GTINDVPC', 'MMYY'],\n",
       "      dtype='object', length=134)"
      ]
     },
     "execution_count": 39,
     "metadata": {},
     "output_type": "execute_result"
    }
   ],
   "source": [
    "\n",
    "census_insurance = pd.read_csv('https://www2.census.gov/programs-surveys/demo/datasets/income-poverty/time-series/data-extracts/2018/cps-asec-bridge-file/hhpub18.csv')\n",
    "census_insurance.columns\n",
    "#HCOV NOW_HCOV \n",
    "# HTML(filename='www.census.gov/data/tables/time-series/demo/health-insurance/historical-series/hib.html')"
   ]
  },
  {
   "cell_type": "code",
   "execution_count": 40,
   "metadata": {},
   "outputs": [],
   "source": [
    "# Covid_data & asthma\n",
    "var_of_interest= ['confirmed_deaths','confirmed_cases', ]"
   ]
  },
  {
   "cell_type": "code",
   "execution_count": 41,
   "metadata": {},
   "outputs": [
    {
     "ename": "NameError",
     "evalue": "name 'Covid_data1' is not defined",
     "output_type": "error",
     "traceback": [
      "\u001b[0;31m---------------------------------------------------------------------------\u001b[0m",
      "\u001b[0;31mNameError\u001b[0m                                 Traceback (most recent call last)",
      "\u001b[0;32m<ipython-input-41-07a22fb7c8d2>\u001b[0m in \u001b[0;36m<module>\u001b[0;34m\u001b[0m\n\u001b[0;32m----> 1\u001b[0;31m covid_asthma = pd.merge(asthma_state_count,Covid_data1,\n\u001b[0m\u001b[1;32m      2\u001b[0m     \u001b[0mhow\u001b[0m\u001b[0;34m=\u001b[0m\u001b[0;34m\"left\"\u001b[0m\u001b[0;34m,\u001b[0m\u001b[0;34m\u001b[0m\u001b[0;34m\u001b[0m\u001b[0m\n\u001b[1;32m      3\u001b[0m     \u001b[0mleft_on\u001b[0m \u001b[0;34m=\u001b[0m \u001b[0;34m[\u001b[0m\u001b[0;34m'state'\u001b[0m\u001b[0;34m]\u001b[0m\u001b[0;34m,\u001b[0m\u001b[0;34m\u001b[0m\u001b[0;34m\u001b[0m\u001b[0m\n\u001b[1;32m      4\u001b[0m     right_on = ['state'])\n\u001b[1;32m      5\u001b[0m \u001b[0mcovid_asthma\u001b[0m\u001b[0;34m.\u001b[0m\u001b[0mdrop\u001b[0m\u001b[0;34m(\u001b[0m\u001b[0;34m'United States'\u001b[0m\u001b[0;34m,\u001b[0m \u001b[0maxis\u001b[0m \u001b[0;34m=\u001b[0m \u001b[0;36m0\u001b[0m\u001b[0;34m)\u001b[0m\u001b[0;34m\u001b[0m\u001b[0;34m\u001b[0m\u001b[0m\n",
      "\u001b[0;31mNameError\u001b[0m: name 'Covid_data1' is not defined"
     ]
    }
   ],
   "source": [
    "covid_asthma = pd.merge(asthma_state_count,Covid_data1,\n",
    "    how=\"left\",                      \n",
    "    left_on = ['state'],\n",
    "    right_on = ['state'])\n",
    "covid_asthma.drop('United States', axis = 0)\n",
    "covid_asthma"
   ]
  },
  {
   "cell_type": "code",
   "execution_count": null,
   "metadata": {},
   "outputs": [],
   "source": [
    "covid_asthma.corr()[['asthma_value_times_count', 'confirmed_deaths']]"
   ]
  },
  {
   "cell_type": "code",
   "execution_count": 42,
   "metadata": {},
   "outputs": [
    {
     "data": {
      "text/html": [
       "<div>\n",
       "<style scoped>\n",
       "    .dataframe tbody tr th:only-of-type {\n",
       "        vertical-align: middle;\n",
       "    }\n",
       "\n",
       "    .dataframe tbody tr th {\n",
       "        vertical-align: top;\n",
       "    }\n",
       "\n",
       "    .dataframe thead th {\n",
       "        text-align: right;\n",
       "    }\n",
       "</style>\n",
       "<table border=\"1\" class=\"dataframe\">\n",
       "  <thead>\n",
       "    <tr style=\"text-align: right;\">\n",
       "      <th></th>\n",
       "      <th>Date</th>\n",
       "      <th>Country</th>\n",
       "      <th>City</th>\n",
       "      <th>Specie</th>\n",
       "      <th>count</th>\n",
       "      <th>min</th>\n",
       "      <th>max</th>\n",
       "      <th>median</th>\n",
       "      <th>variance</th>\n",
       "    </tr>\n",
       "  </thead>\n",
       "  <tbody>\n",
       "    <tr>\n",
       "      <th>0</th>\n",
       "      <td>2/27/2020</td>\n",
       "      <td>UZ</td>\n",
       "      <td>Tashkent</td>\n",
       "      <td>pm25</td>\n",
       "      <td>24</td>\n",
       "      <td>34.0</td>\n",
       "      <td>147.0</td>\n",
       "      <td>53.0</td>\n",
       "      <td>10221.70</td>\n",
       "    </tr>\n",
       "    <tr>\n",
       "      <th>1</th>\n",
       "      <td>3/12/2020</td>\n",
       "      <td>UZ</td>\n",
       "      <td>Tashkent</td>\n",
       "      <td>pm25</td>\n",
       "      <td>24</td>\n",
       "      <td>152.0</td>\n",
       "      <td>201.0</td>\n",
       "      <td>160.0</td>\n",
       "      <td>1304.93</td>\n",
       "    </tr>\n",
       "    <tr>\n",
       "      <th>2</th>\n",
       "      <td>8/2/2020</td>\n",
       "      <td>UZ</td>\n",
       "      <td>Tashkent</td>\n",
       "      <td>pm25</td>\n",
       "      <td>24</td>\n",
       "      <td>38.0</td>\n",
       "      <td>119.0</td>\n",
       "      <td>63.0</td>\n",
       "      <td>4586.67</td>\n",
       "    </tr>\n",
       "    <tr>\n",
       "      <th>3</th>\n",
       "      <td>8/23/2020</td>\n",
       "      <td>UZ</td>\n",
       "      <td>Tashkent</td>\n",
       "      <td>pm25</td>\n",
       "      <td>24</td>\n",
       "      <td>55.0</td>\n",
       "      <td>159.0</td>\n",
       "      <td>74.0</td>\n",
       "      <td>10854.50</td>\n",
       "    </tr>\n",
       "    <tr>\n",
       "      <th>4</th>\n",
       "      <td>10/4/2020</td>\n",
       "      <td>UZ</td>\n",
       "      <td>Tashkent</td>\n",
       "      <td>pm25</td>\n",
       "      <td>24</td>\n",
       "      <td>70.0</td>\n",
       "      <td>157.0</td>\n",
       "      <td>85.0</td>\n",
       "      <td>5356.94</td>\n",
       "    </tr>\n",
       "  </tbody>\n",
       "</table>\n",
       "</div>"
      ],
      "text/plain": [
       "        Date Country      City Specie  count    min    max  median  variance\n",
       "0  2/27/2020      UZ  Tashkent   pm25     24   34.0  147.0    53.0  10221.70\n",
       "1  3/12/2020      UZ  Tashkent   pm25     24  152.0  201.0   160.0   1304.93\n",
       "2   8/2/2020      UZ  Tashkent   pm25     24   38.0  119.0    63.0   4586.67\n",
       "3  8/23/2020      UZ  Tashkent   pm25     24   55.0  159.0    74.0  10854.50\n",
       "4  10/4/2020      UZ  Tashkent   pm25     24   70.0  157.0    85.0   5356.94"
      ]
     },
     "execution_count": 42,
     "metadata": {},
     "output_type": "execute_result"
    }
   ],
   "source": [
    "#not updated through 12/2020\n",
    "with open('waqi-covid19-airqualitydata-2020.csv') as AQI:\n",
    "    AQI_older = pd.read_csv(AQI)\n",
    "AQI_older.head()\n"
   ]
  },
  {
   "cell_type": "code",
   "execution_count": 56,
   "metadata": {},
   "outputs": [
    {
     "data": {
      "text/html": [
       "<div>\n",
       "<style scoped>\n",
       "    .dataframe tbody tr th:only-of-type {\n",
       "        vertical-align: middle;\n",
       "    }\n",
       "\n",
       "    .dataframe tbody tr th {\n",
       "        vertical-align: top;\n",
       "    }\n",
       "\n",
       "    .dataframe thead th {\n",
       "        text-align: right;\n",
       "    }\n",
       "</style>\n",
       "<table border=\"1\" class=\"dataframe\">\n",
       "  <thead>\n",
       "    <tr style=\"text-align: right;\">\n",
       "      <th></th>\n",
       "      <th>Date</th>\n",
       "      <th>Country</th>\n",
       "      <th>City</th>\n",
       "      <th>Specie</th>\n",
       "      <th>count</th>\n",
       "      <th>min</th>\n",
       "      <th>max</th>\n",
       "      <th>median</th>\n",
       "      <th>variance</th>\n",
       "    </tr>\n",
       "  </thead>\n",
       "  <tbody>\n",
       "    <tr>\n",
       "      <th>0</th>\n",
       "      <td>2/27/2020</td>\n",
       "      <td>UZ</td>\n",
       "      <td>Tashkent</td>\n",
       "      <td>pm25</td>\n",
       "      <td>24</td>\n",
       "      <td>34.0</td>\n",
       "      <td>147.0</td>\n",
       "      <td>53.0</td>\n",
       "      <td>10221.70</td>\n",
       "    </tr>\n",
       "    <tr>\n",
       "      <th>1</th>\n",
       "      <td>3/12/2020</td>\n",
       "      <td>UZ</td>\n",
       "      <td>Tashkent</td>\n",
       "      <td>pm25</td>\n",
       "      <td>24</td>\n",
       "      <td>152.0</td>\n",
       "      <td>201.0</td>\n",
       "      <td>160.0</td>\n",
       "      <td>1304.93</td>\n",
       "    </tr>\n",
       "    <tr>\n",
       "      <th>2</th>\n",
       "      <td>8/2/2020</td>\n",
       "      <td>UZ</td>\n",
       "      <td>Tashkent</td>\n",
       "      <td>pm25</td>\n",
       "      <td>24</td>\n",
       "      <td>38.0</td>\n",
       "      <td>119.0</td>\n",
       "      <td>63.0</td>\n",
       "      <td>4586.67</td>\n",
       "    </tr>\n",
       "    <tr>\n",
       "      <th>3</th>\n",
       "      <td>8/23/2020</td>\n",
       "      <td>UZ</td>\n",
       "      <td>Tashkent</td>\n",
       "      <td>pm25</td>\n",
       "      <td>24</td>\n",
       "      <td>55.0</td>\n",
       "      <td>159.0</td>\n",
       "      <td>74.0</td>\n",
       "      <td>10854.50</td>\n",
       "    </tr>\n",
       "    <tr>\n",
       "      <th>4</th>\n",
       "      <td>10/4/2020</td>\n",
       "      <td>UZ</td>\n",
       "      <td>Tashkent</td>\n",
       "      <td>pm25</td>\n",
       "      <td>24</td>\n",
       "      <td>70.0</td>\n",
       "      <td>157.0</td>\n",
       "      <td>85.0</td>\n",
       "      <td>5356.94</td>\n",
       "    </tr>\n",
       "  </tbody>\n",
       "</table>\n",
       "</div>"
      ],
      "text/plain": [
       "        Date Country      City Specie  count    min    max  median  variance\n",
       "0  2/27/2020      UZ  Tashkent   pm25     24   34.0  147.0    53.0  10221.70\n",
       "1  3/12/2020      UZ  Tashkent   pm25     24  152.0  201.0   160.0   1304.93\n",
       "2   8/2/2020      UZ  Tashkent   pm25     24   38.0  119.0    63.0   4586.67\n",
       "3  8/23/2020      UZ  Tashkent   pm25     24   55.0  159.0    74.0  10854.50\n",
       "4  10/4/2020      UZ  Tashkent   pm25     24   70.0  157.0    85.0   5356.94"
      ]
     },
     "execution_count": 56,
     "metadata": {},
     "output_type": "execute_result"
    }
   ],
   "source": [
    "with open('waqi-covid19-airqualitydata-2020.csv') as AQI:\n",
    "    AQI_old = pd.read_csv(AQI)\n",
    "AQI_old.head()\n"
   ]
  },
  {
   "cell_type": "code",
   "execution_count": 57,
   "metadata": {},
   "outputs": [
    {
     "data": {
      "text/html": [
       "<div>\n",
       "<style scoped>\n",
       "    .dataframe tbody tr th:only-of-type {\n",
       "        vertical-align: middle;\n",
       "    }\n",
       "\n",
       "    .dataframe tbody tr th {\n",
       "        vertical-align: top;\n",
       "    }\n",
       "\n",
       "    .dataframe thead th {\n",
       "        text-align: right;\n",
       "    }\n",
       "</style>\n",
       "<table border=\"1\" class=\"dataframe\">\n",
       "  <thead>\n",
       "    <tr style=\"text-align: right;\">\n",
       "      <th></th>\n",
       "      <th>Date</th>\n",
       "      <th>Country</th>\n",
       "      <th>City</th>\n",
       "      <th>Specie</th>\n",
       "      <th>count</th>\n",
       "      <th>min</th>\n",
       "      <th>max</th>\n",
       "      <th>median</th>\n",
       "      <th>variance</th>\n",
       "    </tr>\n",
       "  </thead>\n",
       "  <tbody>\n",
       "    <tr>\n",
       "      <th>0</th>\n",
       "      <td>2/28/2020</td>\n",
       "      <td>CL</td>\n",
       "      <td>Rancagua</td>\n",
       "      <td>co</td>\n",
       "      <td>48</td>\n",
       "      <td>1.0</td>\n",
       "      <td>5.6</td>\n",
       "      <td>2.6</td>\n",
       "      <td>16.79</td>\n",
       "    </tr>\n",
       "    <tr>\n",
       "      <th>1</th>\n",
       "      <td>3/27/2020</td>\n",
       "      <td>CL</td>\n",
       "      <td>Rancagua</td>\n",
       "      <td>co</td>\n",
       "      <td>46</td>\n",
       "      <td>4.3</td>\n",
       "      <td>6.2</td>\n",
       "      <td>4.8</td>\n",
       "      <td>2.67</td>\n",
       "    </tr>\n",
       "    <tr>\n",
       "      <th>2</th>\n",
       "      <td>6/29/2020</td>\n",
       "      <td>CL</td>\n",
       "      <td>Rancagua</td>\n",
       "      <td>co</td>\n",
       "      <td>48</td>\n",
       "      <td>15.0</td>\n",
       "      <td>28.3</td>\n",
       "      <td>15.9</td>\n",
       "      <td>180.54</td>\n",
       "    </tr>\n",
       "    <tr>\n",
       "      <th>3</th>\n",
       "      <td>8/21/2020</td>\n",
       "      <td>CL</td>\n",
       "      <td>Rancagua</td>\n",
       "      <td>co</td>\n",
       "      <td>48</td>\n",
       "      <td>7.2</td>\n",
       "      <td>13.7</td>\n",
       "      <td>9.0</td>\n",
       "      <td>40.98</td>\n",
       "    </tr>\n",
       "    <tr>\n",
       "      <th>4</th>\n",
       "      <td>9/29/2020</td>\n",
       "      <td>CL</td>\n",
       "      <td>Rancagua</td>\n",
       "      <td>co</td>\n",
       "      <td>66</td>\n",
       "      <td>6.9</td>\n",
       "      <td>7.8</td>\n",
       "      <td>7.5</td>\n",
       "      <td>0.43</td>\n",
       "    </tr>\n",
       "  </tbody>\n",
       "</table>\n",
       "</div>"
      ],
      "text/plain": [
       "        Date Country      City Specie  count   min   max  median  variance\n",
       "0  2/28/2020      CL  Rancagua     co     48   1.0   5.6     2.6     16.79\n",
       "1  3/27/2020      CL  Rancagua     co     46   4.3   6.2     4.8      2.67\n",
       "2  6/29/2020      CL  Rancagua     co     48  15.0  28.3    15.9    180.54\n",
       "3  8/21/2020      CL  Rancagua     co     48   7.2  13.7     9.0     40.98\n",
       "4  9/29/2020      CL  Rancagua     co     66   6.9   7.8     7.5      0.43"
      ]
     },
     "execution_count": 57,
     "metadata": {},
     "output_type": "execute_result"
    }
   ],
   "source": [
    "#this takes us to a document where we need to delete the first five rows bc it's just information \n",
    "#updated currently woohoo!\n",
    "with open('AQI.csv') as AQI:\n",
    "   AQI = pd.read_csv(AQI)\n",
    "AQI.head()\n"
   ]
  },
  {
   "cell_type": "code",
   "execution_count": 61,
   "metadata": {},
   "outputs": [
    {
     "ename": "NameError",
     "evalue": "name 'process' is not defined",
     "output_type": "error",
     "traceback": [
      "\u001b[0;31m---------------------------------------------------------------------------\u001b[0m",
      "\u001b[0;31mNameError\u001b[0m                                 Traceback (most recent call last)",
      "\u001b[0;32m<ipython-input-61-e30f394163ea>\u001b[0m in \u001b[0;36m<module>\u001b[0;34m\u001b[0m\n\u001b[1;32m      2\u001b[0m \u001b[0mchunksize\u001b[0m \u001b[0;34m=\u001b[0m \u001b[0;36m10\u001b[0m \u001b[0;34m**\u001b[0m\u001b[0;36m5\u001b[0m  \u001b[0;31m###specifying how many rows you want to read in 10**5 is 100K\u001b[0m\u001b[0;34m\u001b[0m\u001b[0;34m\u001b[0m\u001b[0m\n\u001b[1;32m      3\u001b[0m \u001b[0;32mfor\u001b[0m \u001b[0mchunk\u001b[0m \u001b[0;32min\u001b[0m \u001b[0mpd\u001b[0m\u001b[0;34m.\u001b[0m\u001b[0mread_csv\u001b[0m\u001b[0;34m(\u001b[0m\u001b[0;34m'AQI.csv'\u001b[0m\u001b[0;34m,\u001b[0m \u001b[0mchunksize\u001b[0m\u001b[0;34m=\u001b[0m\u001b[0mchunksize\u001b[0m\u001b[0;34m)\u001b[0m\u001b[0;34m:\u001b[0m\u001b[0;34m\u001b[0m\u001b[0;34m\u001b[0m\u001b[0m\n\u001b[0;32m----> 4\u001b[0;31m     \u001b[0mprocess\u001b[0m\u001b[0;34m(\u001b[0m\u001b[0mchunk\u001b[0m\u001b[0;34m)\u001b[0m\u001b[0;34m\u001b[0m\u001b[0;34m\u001b[0m\u001b[0m\n\u001b[0m",
      "\u001b[0;31mNameError\u001b[0m: name 'process' is not defined"
     ]
    }
   ],
   "source": [
    "## WE STOPPED HERE\n",
    "#method to import large AQI dataset that is cutting off our U.S. data is to import by chunks but the process isn't defined\n",
    "chunksize = 10 **5  ###specifying how many rows you want to read in 10**5 is 100K\n",
    "for chunk in pd.read_csv('AQI.csv', chunksize=chunksize):\n",
    "    process(chunk)"
   ]
  },
  {
   "cell_type": "code",
   "execution_count": 45,
   "metadata": {},
   "outputs": [
    {
     "data": {
      "text/plain": [
       "Index(['Date', 'Country', 'City', 'Specie', 'count', 'min', 'max', 'median',\n",
       "       'variance'],\n",
       "      dtype='object')"
      ]
     },
     "execution_count": 45,
     "metadata": {},
     "output_type": "execute_result"
    }
   ],
   "source": [
    "AQI.columns"
   ]
  },
  {
   "cell_type": "code",
   "execution_count": 47,
   "metadata": {},
   "outputs": [
    {
     "data": {
      "text/html": [
       "<div>\n",
       "<style scoped>\n",
       "    .dataframe tbody tr th:only-of-type {\n",
       "        vertical-align: middle;\n",
       "    }\n",
       "\n",
       "    .dataframe tbody tr th {\n",
       "        vertical-align: top;\n",
       "    }\n",
       "\n",
       "    .dataframe thead th {\n",
       "        text-align: right;\n",
       "    }\n",
       "</style>\n",
       "<table border=\"1\" class=\"dataframe\">\n",
       "  <thead>\n",
       "    <tr style=\"text-align: right;\">\n",
       "      <th></th>\n",
       "      <th>Date</th>\n",
       "      <th>Country</th>\n",
       "      <th>City</th>\n",
       "      <th>Specie</th>\n",
       "      <th>count</th>\n",
       "      <th>min</th>\n",
       "      <th>max</th>\n",
       "      <th>median</th>\n",
       "      <th>variance</th>\n",
       "    </tr>\n",
       "  </thead>\n",
       "  <tbody>\n",
       "  </tbody>\n",
       "</table>\n",
       "</div>"
      ],
      "text/plain": [
       "Empty DataFrame\n",
       "Columns: [Date, Country, City, Specie, count, min, max, median, variance]\n",
       "Index: []"
      ]
     },
     "execution_count": 47,
     "metadata": {},
     "output_type": "execute_result"
    }
   ],
   "source": [
    "AQI_US = AQI.loc[AQI['Country'] == 'US']\n",
    "AQI_US"
   ]
  },
  {
   "cell_type": "code",
   "execution_count": 51,
   "metadata": {},
   "outputs": [
    {
     "data": {
      "text/plain": [
       "array(['CL', 'CR', 'HU', 'ML', 'MX', 'PH', 'PL', 'CW', 'DK', 'JO', 'LK',\n",
       "       'MK', 'CZ', 'GH', 'JP', 'KG', 'KR', 'KZ', 'MY', 'SG', 'TJ', 'BO',\n",
       "       'IL', 'IT', 'RO', 'SV', 'TM', 'BD', 'EC', 'GB', 'GT', 'ID', 'IE',\n",
       "       'IS', 'RU', 'LA', 'NZ', 'TR', 'BR', 'IQ', 'MM', 'AF', 'CN'], dtype=object)"
      ]
     },
     "execution_count": 51,
     "metadata": {},
     "output_type": "execute_result"
    }
   ],
   "source": [
    "AQI['Country'].unique()"
   ]
  },
  {
   "cell_type": "code",
   "execution_count": 27,
   "metadata": {},
   "outputs": [
    {
     "data": {
      "text/plain": [
       "array(['so2', 'wind gust', 'wind-gust', 'temperature', 'wind-speed',\n",
       "       'pm10', 'pm25', 'no2', 'o3', 'pressure', 'dew', 'co', 'humidity',\n",
       "       'wind speed', 'wd', 'precipitation'], dtype=object)"
      ]
     },
     "execution_count": 27,
     "metadata": {},
     "output_type": "execute_result"
    }
   ],
   "source": [
    "pd.unique(AQI_US['Specie'])"
   ]
  },
  {
   "cell_type": "code",
   "execution_count": 28,
   "metadata": {},
   "outputs": [
    {
     "name": "stdout",
     "output_type": "stream",
     "text": [
      "countries ['UZ' 'BE' 'BH' 'GB' 'KR' 'TM' 'AU' 'HK' 'NP' 'SG' 'DE' 'RO' 'UG' 'CA' 'KW'\n",
      " 'PE' 'GT' 'IN' 'PR' 'BG' 'CY' 'DZ' 'EE' 'GE' 'US' 'XK' 'MY' 'PT' 'SV' 'VN'\n",
      " 'FR' 'PK' 'SA' 'AR' 'BO' 'CN']\n",
      "cities ['Tashkent' 'Liège' 'Brussels' 'Charleroi' 'Gent' 'Namur' 'Antwerpen'\n",
      " 'Manama' 'Edinburgh' 'Norwich' 'Liverpool' 'Belfast' 'Coventry' 'Leeds'\n",
      " 'Cardiff' 'Bristol' 'London' 'Birmingham' 'Sheffield' 'Newport'\n",
      " 'Leicester' 'Manchester' 'Reading' 'Plymouth' 'Glasgow' 'Preston'\n",
      " 'Swansea' 'Luton' 'Southend-on-Sea' 'Jeonju' 'Seoul' 'Busan' 'Sejong'\n",
      " 'Ulsan' 'Yeosu' 'Gwangju' 'Seongnam-si' 'Daejeon' 'Pohang' 'Changwon'\n",
      " 'Suwon' 'Cheongju-si' 'Chuncheon' 'Daegu' 'Jeju City' 'Incheon' 'Suncheon'\n",
      " 'Mokpo' 'Andong' 'Ashgabat' 'Sydney' 'Newcastle' 'Launceston' 'Hobart'\n",
      " 'Darwin' 'Melbourne' 'Canberra' 'Adelaide' 'Brisbane' 'Perth' 'Wollongong'\n",
      " 'Hong Kong' 'Kathmandu' 'Pokhara' 'Biratnagar' 'Singapore' 'Stuttgart'\n",
      " 'Münster' 'Köln' 'Kassel' 'Karlsruhe' 'Mainz' 'Dresden' 'Munich' 'Berlin'\n",
      " 'Düsseldorf' 'Freiburg' 'Wiesbaden' 'Hannover' 'Augsburg' 'Darmstadt'\n",
      " 'Potsdam' 'Hamburg' 'Ploieşti' 'Craiova' 'Bacău' 'Râmnicu Vâlcea' 'Sibiu'\n",
      " 'Timişoara' 'Piteşti' 'Arad' 'Cluj-Napoca' 'Bucharest' 'Baia Mare'\n",
      " 'Oradea' 'Galaţi' 'Braşov' 'Iaşi' 'Constanţa' 'Brăila' 'Kampala'\n",
      " 'Hamilton' 'Calgary' 'Winnipeg' 'Halifax' 'Kitchener' 'Edmonton' 'Surrey'\n",
      " 'Mississauga' 'Québec' 'Vancouver' 'Victoria' 'Montréal' 'Toronto'\n",
      " 'Ottawa' 'Ḩawallī' 'Lima' 'Guatemala City' 'Thrissur' 'New Delhi'\n",
      " 'Hyderabad' 'Delhi' 'Chandigarh' 'Bhopal' 'Nagpur' 'Lucknow' 'Ghāziābād'\n",
      " 'Hāpur' 'Gandhinagar' 'Chennai' 'Nashik' 'Mysore' 'Visakhapatnam' 'Mumbai'\n",
      " 'Jaipur' 'Patna' 'Muzaffarnagar' 'Thiruvananthapuram' 'Bengaluru'\n",
      " 'Shillong' 'Kolkata' 'San Juan' 'Sofia' 'Burgas' 'Plovdiv' 'Nicosia'\n",
      " 'Limassol' 'Algiers' 'Tallinn' 'Tbilisi' 'Oklahoma City' 'Raleigh'\n",
      " 'Memphis' 'Jackson' 'Boston' 'Richmond' 'Portland' 'Boise' 'Austin'\n",
      " 'Honolulu' 'Fresno' 'Milwaukee' 'Columbia' 'Hartford' 'Washington D.C.'\n",
      " 'Chicago' 'Houston' 'Indianapolis' 'Atlanta' 'Charlotte' 'Sacramento'\n",
      " 'Oakland' 'Providence' 'Staten Island' 'Brooklyn' 'Springfield'\n",
      " 'The Bronx' 'San Jose' 'Los Angeles' 'Detroit' 'Little Rock' 'Baltimore'\n",
      " 'Phoenix' 'Omaha' 'El Paso' 'Dallas' 'Seattle' 'Manhattan' 'Miami'\n",
      " 'Jacksonville' 'Las Vegas' 'San Antonio' 'Philadelphia' 'San Diego'\n",
      " 'Columbus' 'Saint Paul' 'Denver' 'Salt Lake City' 'Albuquerque'\n",
      " 'San Francisco' 'Salem' 'Madison' 'Nashville' 'Tucson' 'Queens'\n",
      " 'Tallahassee' 'Fort Worth' 'Pristina' 'Kuantan' 'Miri' 'George Town'\n",
      " 'Klang' 'Malacca' 'Taiping' 'Alor Setar' 'Kota Bharu' 'Kuching' 'Seremban'\n",
      " 'Ipoh' 'Johor Bahru' 'Kuala Lumpur' 'Lisbon' 'Funchal' 'San Salvador'\n",
      " 'Ho Chi Minh City' 'Huế' 'Hanoi' 'Haiphong' 'Hạ Long' 'Tours' 'Marseille'\n",
      " 'Nîmes' 'Besançon' 'Nantes' 'Rennes' 'Toulouse' 'Nancy' 'Clermont-Ferrand'\n",
      " 'Paris' 'Lille' 'Orléans' 'Montpellier' 'Lyon' 'Amiens' 'Dijon' 'Rouen'\n",
      " 'Grenoble' 'Toulon' 'Limoges' 'Caen' 'Perpignan' 'Bordeaux' 'Nice'\n",
      " 'Saint-Étienne' 'Metz' 'Strasbourg' 'Karachi' 'Peshawar' 'Islamabad'\n",
      " 'Lahore' 'Riyadh' 'Jeddah' 'Abha' 'Dammam' \"Ha'il\" 'Buraydah' 'Mecca'\n",
      " 'Buenos Aires' 'Cochabamba' 'Beijing' 'Jieyang' 'Kunming' 'Hangzhou'\n",
      " 'Chongqing' 'Qingdao' 'Haikou' 'Ürümqi' 'Qiqihar' 'Guiyang' 'Shenzhen'\n",
      " 'Yunfu' 'Xuchang' 'Yinchuan' 'Shenyang' 'Lhasa' 'Shanghai' 'Changchun'\n",
      " 'Foshan' 'Nanning' 'Fushun' 'Hefei' 'Chengdu' 'Hohhot' 'Qinhuangdao'\n",
      " 'Shijiazhuang' 'Shantou' 'Zhengzhou' 'Nanjing' 'Xining' 'Xi’an' 'Zhuzhou'\n",
      " 'Wuhan' 'Tianjin' 'Changzhou' 'Nanchang' 'Shiyan' 'Xinxiang' 'Suzhou'\n",
      " 'Harbin' 'Lanzhou' 'Jinan' 'Changsha' 'Hegang' 'Anyang' 'Wuxi' 'Taiyuan'\n",
      " 'Guangzhou' 'Fuzhou']\n"
     ]
    }
   ],
   "source": [
    "#lists of countries and cities\n",
    "print('countries', pd.unique(AQI['Country']))\n",
    "print('cities', pd.unique(AQI['City']))"
   ]
  },
  {
   "cell_type": "code",
   "execution_count": 29,
   "metadata": {},
   "outputs": [
    {
     "data": {
      "text/html": [
       "<div>\n",
       "<style scoped>\n",
       "    .dataframe tbody tr th:only-of-type {\n",
       "        vertical-align: middle;\n",
       "    }\n",
       "\n",
       "    .dataframe tbody tr th {\n",
       "        vertical-align: top;\n",
       "    }\n",
       "\n",
       "    .dataframe thead th {\n",
       "        text-align: right;\n",
       "    }\n",
       "</style>\n",
       "<table border=\"1\" class=\"dataframe\">\n",
       "  <thead>\n",
       "    <tr style=\"text-align: right;\">\n",
       "      <th></th>\n",
       "      <th>CBSA</th>\n",
       "      <th>Core Based Statistical Area</th>\n",
       "      <th>Pollutant</th>\n",
       "      <th>Trend Statistic</th>\n",
       "      <th>Number of Trend Sites</th>\n",
       "      <th>1990</th>\n",
       "      <th>1991</th>\n",
       "      <th>1992</th>\n",
       "      <th>1993</th>\n",
       "      <th>1994</th>\n",
       "      <th>...</th>\n",
       "      <th>2010</th>\n",
       "      <th>2011</th>\n",
       "      <th>2012</th>\n",
       "      <th>2013</th>\n",
       "      <th>2014</th>\n",
       "      <th>2015</th>\n",
       "      <th>2016</th>\n",
       "      <th>2017</th>\n",
       "      <th>2018</th>\n",
       "      <th>2019</th>\n",
       "    </tr>\n",
       "  </thead>\n",
       "  <tbody>\n",
       "    <tr>\n",
       "      <th>0</th>\n",
       "      <td>10100</td>\n",
       "      <td>Aberdeen, SD</td>\n",
       "      <td>PM2.5</td>\n",
       "      <td>Weighted Annual Mean</td>\n",
       "      <td>1.0</td>\n",
       "      <td>NaN</td>\n",
       "      <td>NaN</td>\n",
       "      <td>NaN</td>\n",
       "      <td>NaN</td>\n",
       "      <td>NaN</td>\n",
       "      <td>...</td>\n",
       "      <td>8.700</td>\n",
       "      <td>7.100</td>\n",
       "      <td>7.500</td>\n",
       "      <td>7.300</td>\n",
       "      <td>6.20</td>\n",
       "      <td>6.200</td>\n",
       "      <td>5.40</td>\n",
       "      <td>5.800</td>\n",
       "      <td>6.600</td>\n",
       "      <td>5.900</td>\n",
       "    </tr>\n",
       "    <tr>\n",
       "      <th>1</th>\n",
       "      <td>10100</td>\n",
       "      <td>NaN</td>\n",
       "      <td>PM2.5</td>\n",
       "      <td>98th Percentile</td>\n",
       "      <td>1.0</td>\n",
       "      <td>NaN</td>\n",
       "      <td>NaN</td>\n",
       "      <td>NaN</td>\n",
       "      <td>NaN</td>\n",
       "      <td>NaN</td>\n",
       "      <td>...</td>\n",
       "      <td>27.000</td>\n",
       "      <td>18.000</td>\n",
       "      <td>23.000</td>\n",
       "      <td>22.000</td>\n",
       "      <td>17.00</td>\n",
       "      <td>14.000</td>\n",
       "      <td>14.00</td>\n",
       "      <td>13.000</td>\n",
       "      <td>22.000</td>\n",
       "      <td>18.000</td>\n",
       "    </tr>\n",
       "    <tr>\n",
       "      <th>2</th>\n",
       "      <td>10420</td>\n",
       "      <td>Akron, OH</td>\n",
       "      <td>CO</td>\n",
       "      <td>2nd Max</td>\n",
       "      <td>1.0</td>\n",
       "      <td>5.70</td>\n",
       "      <td>3.300</td>\n",
       "      <td>4.100</td>\n",
       "      <td>3.100</td>\n",
       "      <td>5.300</td>\n",
       "      <td>...</td>\n",
       "      <td>1.400</td>\n",
       "      <td>1.000</td>\n",
       "      <td>1.100</td>\n",
       "      <td>0.800</td>\n",
       "      <td>0.80</td>\n",
       "      <td>1.000</td>\n",
       "      <td>1.10</td>\n",
       "      <td>0.900</td>\n",
       "      <td>1.800</td>\n",
       "      <td>1.800</td>\n",
       "    </tr>\n",
       "    <tr>\n",
       "      <th>3</th>\n",
       "      <td>10420</td>\n",
       "      <td>NaN</td>\n",
       "      <td>O3</td>\n",
       "      <td>4th Max</td>\n",
       "      <td>2.0</td>\n",
       "      <td>0.09</td>\n",
       "      <td>0.101</td>\n",
       "      <td>0.087</td>\n",
       "      <td>0.093</td>\n",
       "      <td>0.086</td>\n",
       "      <td>...</td>\n",
       "      <td>0.074</td>\n",
       "      <td>0.073</td>\n",
       "      <td>0.072</td>\n",
       "      <td>0.059</td>\n",
       "      <td>0.06</td>\n",
       "      <td>0.065</td>\n",
       "      <td>0.06</td>\n",
       "      <td>0.066</td>\n",
       "      <td>0.068</td>\n",
       "      <td>0.062</td>\n",
       "    </tr>\n",
       "    <tr>\n",
       "      <th>4</th>\n",
       "      <td>10420</td>\n",
       "      <td>NaN</td>\n",
       "      <td>PM2.5</td>\n",
       "      <td>Weighted Annual Mean</td>\n",
       "      <td>3.0</td>\n",
       "      <td>NaN</td>\n",
       "      <td>NaN</td>\n",
       "      <td>NaN</td>\n",
       "      <td>NaN</td>\n",
       "      <td>NaN</td>\n",
       "      <td>...</td>\n",
       "      <td>12.400</td>\n",
       "      <td>11.100</td>\n",
       "      <td>10.000</td>\n",
       "      <td>9.700</td>\n",
       "      <td>9.90</td>\n",
       "      <td>10.400</td>\n",
       "      <td>8.20</td>\n",
       "      <td>7.900</td>\n",
       "      <td>7.900</td>\n",
       "      <td>8.200</td>\n",
       "    </tr>\n",
       "  </tbody>\n",
       "</table>\n",
       "<p>5 rows × 35 columns</p>\n",
       "</div>"
      ],
      "text/plain": [
       "    CBSA Core Based Statistical Area Pollutant       Trend Statistic  \\\n",
       "0  10100                Aberdeen, SD     PM2.5  Weighted Annual Mean   \n",
       "1  10100                         NaN     PM2.5       98th Percentile   \n",
       "2  10420                   Akron, OH        CO               2nd Max   \n",
       "3  10420                         NaN        O3               4th Max   \n",
       "4  10420                         NaN     PM2.5  Weighted Annual Mean   \n",
       "\n",
       "   Number of Trend Sites  1990   1991   1992   1993   1994   ...      2010  \\\n",
       "0                    1.0   NaN    NaN    NaN    NaN    NaN   ...     8.700   \n",
       "1                    1.0   NaN    NaN    NaN    NaN    NaN   ...    27.000   \n",
       "2                    1.0  5.70  3.300  4.100  3.100  5.300   ...     1.400   \n",
       "3                    2.0  0.09  0.101  0.087  0.093  0.086   ...     0.074   \n",
       "4                    3.0   NaN    NaN    NaN    NaN    NaN   ...    12.400   \n",
       "\n",
       "     2011    2012    2013   2014    2015   2016    2017    2018    2019  \n",
       "0   7.100   7.500   7.300   6.20   6.200   5.40   5.800   6.600   5.900  \n",
       "1  18.000  23.000  22.000  17.00  14.000  14.00  13.000  22.000  18.000  \n",
       "2   1.000   1.100   0.800   0.80   1.000   1.10   0.900   1.800   1.800  \n",
       "3   0.073   0.072   0.059   0.06   0.065   0.06   0.066   0.068   0.062  \n",
       "4  11.100  10.000   9.700   9.90  10.400   8.20   7.900   7.900   8.200  \n",
       "\n",
       "[5 rows x 35 columns]"
      ]
     },
     "execution_count": 29,
     "metadata": {},
     "output_type": "execute_result"
    }
   ],
   "source": [
    "histAQI = pd.read_excel('airqualitytrendsbycity1990-2019.xlsx')\n",
    "histAQI.head()"
   ]
  },
  {
   "cell_type": "code",
   "execution_count": null,
   "metadata": {},
   "outputs": [],
   "source": [
    "histAQI_Year_column = pd.melt(histAQI, id_vars=(['Pollutant','StateAbbr','Trend Statistic']), value_vars=([1990,\n",
    "                                1991,                          1992,\n",
    "                                1993,                          1994,\n",
    "                                1995,                          1996,\n",
    "                                1997,                          1998,\n",
    "                                1999,                          2000,\n",
    "                                2001,                          2002,\n",
    "                                2003,                          2004,\n",
    "                                2005,                          2006,\n",
    "                                2007,                          2008,\n",
    "                                2009,                          2010,\n",
    "                                2011,                          2012,\n",
    "                                2013,                          2014,\n",
    "                                2015,                          2016,\n",
    "                                2017,                          2018,\n",
    "                                2019]), var_name='Year', value_name='Pollutant Value').dropna()\n",
    "histAQI_Year_column.head()"
   ]
  },
  {
   "cell_type": "code",
   "execution_count": null,
   "metadata": {},
   "outputs": [],
   "source": [
    "cities = histAQI['Core Based Statistical Area']\n",
    "y = [str(i).split() for i in cities]\n",
    "\n",
    "states = []\n",
    "for i in y:\n",
    "    state = i[-1]\n",
    "    states.append(state)\n",
    "histAQI['StateAbbr'] = states"
   ]
  },
  {
   "cell_type": "code",
   "execution_count": null,
   "metadata": {},
   "outputs": [],
   "source": [
    "histAQI.head()"
   ]
  },
  {
   "cell_type": "code",
   "execution_count": null,
   "metadata": {},
   "outputs": [],
   "source": []
  },
  {
   "cell_type": "code",
   "execution_count": 50,
   "metadata": {},
   "outputs": [
    {
     "data": {
      "text/plain": [
       "Index(['Year', 'StateAbbr', 'StateDesc', 'CityName', 'GeographicLevel',\n",
       "       'DataSource', 'Data_Value_Unit', 'DataValueTypeID', 'Data_Value_Type',\n",
       "       'Data_Value', 'Low_Confidence_Limit', 'High_Confidence_Limit',\n",
       "       'Data_Value_Footnote_Symbol', 'PopulationCount', 'GeoLocation', 'state',\n",
       "       'asthma_value_times_count'],\n",
       "      dtype='object')"
      ]
     },
     "execution_count": 50,
     "metadata": {},
     "output_type": "execute_result"
    }
   ],
   "source": [
    "asthma.drop(columns = ['Category','UniqueID','Measure','Short_Question_Text','Data_Value_Footnote','CategoryID','MeasureId','CityFIPS','TractFIPS'], inplace = True)\n",
    "asthma.columns"
   ]
  },
  {
   "cell_type": "code",
   "execution_count": null,
   "metadata": {},
   "outputs": [],
   "source": [
    "#putting years in 1 column before merge\n",
    "asthma_premerge = asthma[['StateAbbr','Year','Data_Value']]\n",
    "asthma_premerge"
   ]
  },
  {
   "cell_type": "code",
   "execution_count": null,
   "metadata": {},
   "outputs": [],
   "source": [
    "#append adds rows\n",
    "# histAQI_asthma = histAQI_Year_column.append(asthma_premerge)\n",
    "\n",
    "#merge combines\n",
    "AQI_asthma = pd.merge(asthma_premerge,AQI,\n",
    "    how=\"left\",                      \n",
    "    left_on = ['StateAbbr'],\n",
    "    right_on = ['StateAbbr'])                        \n",
    "AQI_asthma\n"
   ]
  },
  {
   "cell_type": "code",
   "execution_count": null,
   "metadata": {},
   "outputs": [],
   "source": [
    "histAQI_asthma= histAQI_asthma[histAQI_asthma.StateAbbr != 'US']"
   ]
  },
  {
   "cell_type": "code",
   "execution_count": null,
   "metadata": {},
   "outputs": [],
   "source": [
    "histAQI_asthma"
   ]
  },
  {
   "cell_type": "code",
   "execution_count": null,
   "metadata": {},
   "outputs": [],
   "source": [
    "#copied code to fill in values from histAQI_asthma\n",
    "sns.lineplot(x = \"Year\", y = \"Pollutant Value\", data = histAQI_Year_column)\n",
    "plt.title('Total Pollutant Values over Time')\n",
    "plt.show()"
   ]
  },
  {
   "cell_type": "code",
   "execution_count": null,
   "metadata": {},
   "outputs": [],
   "source": [
    "sns.lineplot(x = \"Year\", y = \"Pollutant Value\", data = histAQI_Year_column)\n",
    "plt.title('Total Pollutant Values over Time')\n",
    "plt.show()"
   ]
  },
  {
   "cell_type": "code",
   "execution_count": null,
   "metadata": {},
   "outputs": [],
   "source": [
    "sns.lineplot(x = \"Year\", y = \"Pollutant Value\", data = histAQI_Year_column, hue = \"Pollutant\")\n",
    "plt.title('Pollutant Values over Time')\n",
    "plt.show()"
   ]
  },
  {
   "cell_type": "code",
   "execution_count": null,
   "metadata": {},
   "outputs": [],
   "source": [
    "demographics_data = pd.read_csv(\"https://data.cdc.gov/resource/vbim-akqf.csv\")"
   ]
  },
  {
   "cell_type": "code",
   "execution_count": null,
   "metadata": {},
   "outputs": [],
   "source": [
    "demographics_data.groupby('race_ethnicity_combined').size()\n"
   ]
  },
  {
   "cell_type": "code",
   "execution_count": null,
   "metadata": {},
   "outputs": [],
   "source": [
    "demographics_data.describe()"
   ]
  },
  {
   "cell_type": "code",
   "execution_count": null,
   "metadata": {},
   "outputs": [],
   "source": []
  },
  {
   "cell_type": "code",
   "execution_count": null,
   "metadata": {},
   "outputs": [],
   "source": []
  },
  {
   "cell_type": "code",
   "execution_count": null,
   "metadata": {},
   "outputs": [],
   "source": []
  },
  {
   "cell_type": "code",
   "execution_count": null,
   "metadata": {},
   "outputs": [],
   "source": []
  }
 ],
 "metadata": {
  "kernelspec": {
   "display_name": "Python 3",
   "language": "python",
   "name": "python3"
  },
  "language_info": {
   "codemirror_mode": {
    "name": "ipython",
    "version": 3
   },
   "file_extension": ".py",
   "mimetype": "text/x-python",
   "name": "python",
   "nbconvert_exporter": "python",
   "pygments_lexer": "ipython3",
   "version": "3.6.7"
  }
 },
 "nbformat": 4,
 "nbformat_minor": 2
}
